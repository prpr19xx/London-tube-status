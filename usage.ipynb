{
 "cells": [
  {
   "cell_type": "code",
   "execution_count": 1,
   "metadata": {},
   "outputs": [],
   "source": [
    "from london_tube_status import TubeData\n",
    "import pprint\n",
    "import aiohttp"
   ]
  },
  {
   "cell_type": "code",
   "execution_count": 2,
   "metadata": {},
   "outputs": [],
   "source": [
    "def print_json(json_data):\n",
    "    pprint.PrettyPrinter().pprint(json_data)"
   ]
  },
  {
   "cell_type": "code",
   "execution_count": 3,
   "metadata": {},
   "outputs": [],
   "source": [
    "async with aiohttp.ClientSession() as session:\n",
    "    tube_data = TubeData(session)\n",
    "    await tube_data.update()"
   ]
  },
  {
   "cell_type": "code",
   "execution_count": 4,
   "metadata": {},
   "outputs": [
    {
     "name": "stdout",
     "output_type": "stream",
     "text": [
      "{'Bakerloo': {'Description': 'Nothing to report', 'State': 'Good Service'},\n",
      " 'Central': {'Description': 'Nothing to report', 'State': 'Good Service'},\n",
      " 'Circle': {'Description': 'Nothing to report', 'State': 'Good Service'},\n",
      " 'DLR': {'Description': 'Nothing to report', 'State': 'Good Service'},\n",
      " 'District': {'Description': 'Nothing to report', 'State': 'Good Service'},\n",
      " 'Elizabeth line': {'Description': 'Nothing to report',\n",
      "                    'State': 'Good Service'},\n",
      " 'Hammersmith & City': {'Description': 'Nothing to report',\n",
      "                        'State': 'Good Service'},\n",
      " 'Jubilee': {'Description': 'Nothing to report', 'State': 'Good Service'},\n",
      " 'London Overground': {'Description': 'London Overground: Train service will '\n",
      "                                      'resume later this morning.  *** Train '\n",
      "                                      'service will resume later this '\n",
      "                                      'morning. ',\n",
      "                       'State': 'Service Closed'},\n",
      " 'Metropolitan': {'Description': 'Nothing to report', 'State': 'Good Service'},\n",
      " 'Northern': {'Description': 'Northern Line: Train service will resume later '\n",
      "                             'this morning. ',\n",
      "              'State': 'Service Closed'},\n",
      " 'Piccadilly': {'Description': 'Piccadilly Line: Train service will resume '\n",
      "                               'later this morning. ',\n",
      "                'State': 'Service Closed'},\n",
      " 'TfL Rail': {'Description': 'Nothing to report', 'State': 'Good Service'},\n",
      " 'Victoria': {'Description': 'Victoria Line: Train service will resume later '\n",
      "                             'this morning. ',\n",
      "              'State': 'Service Closed'},\n",
      " 'Waterloo & City': {'Description': 'Waterloo and City Line: Train service '\n",
      "                                    'will resume later this morning. ',\n",
      "                     'State': 'Service Closed'}}\n"
     ]
    }
   ],
   "source": [
    "    print_json(tube_data.data)"
   ]
  },
  {
   "cell_type": "code",
   "execution_count": 5,
   "metadata": {},
   "outputs": [
    {
     "data": {
      "text/plain": [
       "'2022-05-26 04:09:58'"
      ]
     },
     "execution_count": 5,
     "metadata": {},
     "output_type": "execute_result"
    }
   ],
   "source": [
    "    tube_data.last_updated"
   ]
  },
  {
   "cell_type": "code",
   "execution_count": null,
   "metadata": {},
   "outputs": [],
   "source": []
  }
 ],
 "metadata": {
  "interpreter": {
   "hash": "297e5f78fd2cd3cc68f85687c418421af6f491addb61532276df8e66c8329880"
  },
  "kernelspec": {
   "display_name": "Python 3.9.12 ('venv': venv)",
   "language": "python",
   "name": "python3"
  },
  "language_info": {
   "codemirror_mode": {
    "name": "ipython",
    "version": 3
   },
   "file_extension": ".py",
   "mimetype": "text/x-python",
   "name": "python",
   "nbconvert_exporter": "python",
   "pygments_lexer": "ipython3",
   "version": "3.9.12"
  },
  "metadata": {
   "interpreter": {
    "hash": "61e1ad97cbc25f14d853fd2ec0acf4c946cbb7fdbaba9a514ee70939e630afc2"
   }
  }
 },
 "nbformat": 4,
 "nbformat_minor": 2
}

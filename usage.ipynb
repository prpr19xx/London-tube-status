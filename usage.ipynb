{
 "cells": [
  {
   "cell_type": "markdown",
   "metadata": {},
   "source": [
    "[![Open In Colab](https://colab.research.google.com/assets/colab-badge.svg)](https://colab.research.google.com/github/robmarkcole/London-tube-status/blob/master/usage.ipynb)"
   ]
  },
  {
   "cell_type": "code",
   "execution_count": null,
   "metadata": {},
   "outputs": [],
   "source": [
    "# !pip install london-tube-status"
   ]
  },
  {
   "cell_type": "code",
   "execution_count": 3,
   "metadata": {},
   "outputs": [],
   "source": [
    "from london_tube_status import TubeData\n",
    "import pprint\n",
    "import aiohttp"
   ]
  },
  {
   "cell_type": "code",
   "execution_count": 5,
   "metadata": {},
   "outputs": [],
   "source": [
    "def print_json(json_data):\n",
    "    pprint.PrettyPrinter().pprint(json_data)"
   ]
  },
  {
   "cell_type": "code",
   "execution_count": 6,
   "metadata": {},
   "outputs": [],
   "source": [
    "async with aiohttp.ClientSession() as session:\n",
    "    tube_data = TubeData(session)\n",
    "    await tube_data.update()"
   ]
  },
  {
   "cell_type": "code",
   "execution_count": 7,
   "metadata": {},
   "outputs": [
    {
     "name": "stdout",
     "output_type": "stream",
     "text": [
      "{'Bakerloo': {'Description': 'Nothing to report', 'State': 'Good Service'},\n",
      " 'Central': {'Description': 'Nothing to report', 'State': 'Good Service'},\n",
      " 'Circle': {'Description': 'Nothing to report', 'State': 'Good Service'},\n",
      " 'DLR': {'Description': 'Nothing to report', 'State': 'Good Service'},\n",
      " 'District': {'Description': 'Nothing to report', 'State': 'Good Service'},\n",
      " 'Elizabeth line': {'Description': 'Minor delays between Hayes & Harlington '\n",
      "                                   'and Reading due to an earlier trespasser '\n",
      "                                   'at Slough. GOOD SERVICE on the rest of the '\n",
      "                                   'line. ',\n",
      "                    'State': 'Minor Delays'},\n",
      " 'Hammersmith & City': {'Description': 'Nothing to report',\n",
      "                        'State': 'Good Service'},\n",
      " 'Jubilee': {'Description': 'Nothing to report', 'State': 'Good Service'},\n",
      " 'Liberty': {'Description': 'Nothing to report', 'State': 'Good Service'},\n",
      " 'Lioness': {'Description': 'Nothing to report', 'State': 'Good Service'},\n",
      " 'Metropolitan': {'Description': 'Metropolitan Line: Minor delays due to an '\n",
      "                                 'earlier faulty train at Finchley road. ',\n",
      "                  'State': 'Minor Delays'},\n",
      " 'Mildmay': {'Description': 'London Overground: Severe delays between '\n",
      "                            'Willesden Junction and Clapham Junction due to an '\n",
      "                            'earlier points failure at Shepherds Bush. GOOD '\n",
      "                            'SERVICE on the rest of the line. ',\n",
      "             'State': 'Severe Delays'},\n",
      " 'Northern': {'Description': 'Nothing to report', 'State': 'Good Service'},\n",
      " 'Piccadilly': {'Description': 'PICCADILLY LINE: No service between Rayners '\n",
      "                               'Lane and Uxbridge due to poor rail conditions '\n",
      "                               'caused by significant leaf fall. *** '\n",
      "                               'Piccadilly Line: No service between Rayners '\n",
      "                               'Lane and Uxbridge due to difficult track '\n",
      "                               'conditions caused by significant leaf fall. '\n",
      "                               'MINOR DELAYS between Acton town and Rayners '\n",
      "                               'Lane due to shortage of trains GOOD SERVICE on '\n",
      "                               'the rest of the line ',\n",
      "                'State': 'Minor Delays + Part Closure'},\n",
      " 'Suffragette': {'Description': 'Nothing to report', 'State': 'Good Service'},\n",
      " 'Victoria': {'Description': 'Nothing to report', 'State': 'Good Service'},\n",
      " 'Waterloo & City': {'Description': 'Nothing to report',\n",
      "                     'State': 'Good Service'},\n",
      " 'Weaver': {'Description': 'Nothing to report', 'State': 'Good Service'},\n",
      " 'Windrush': {'Description': 'Nothing to report', 'State': 'Good Service'}}\n"
     ]
    }
   ],
   "source": [
    "print_json(tube_data.data)"
   ]
  },
  {
   "cell_type": "code",
   "execution_count": 8,
   "metadata": {},
   "outputs": [
    {
     "data": {
      "text/plain": [
       "'2024-12-05 11:32:57'"
      ]
     },
     "execution_count": 8,
     "metadata": {},
     "output_type": "execute_result"
    }
   ],
   "source": [
    "tube_data.last_updated"
   ]
  },
  {
   "cell_type": "code",
   "execution_count": null,
   "metadata": {},
   "outputs": [],
   "source": []
  }
 ],
 "metadata": {
  "kernelspec": {
   "display_name": "Python 3",
   "language": "python",
   "name": "python3"
  },
  "language_info": {
   "codemirror_mode": {
    "name": "ipython",
    "version": 3
   },
   "file_extension": ".py",
   "mimetype": "text/x-python",
   "name": "python",
   "nbconvert_exporter": "python",
   "pygments_lexer": "ipython3",
   "version": "3.12.1"
  },
  "metadata": {
   "interpreter": {
    "hash": "61e1ad97cbc25f14d853fd2ec0acf4c946cbb7fdbaba9a514ee70939e630afc2"
   }
  }
 },
 "nbformat": 4,
 "nbformat_minor": 2
}
